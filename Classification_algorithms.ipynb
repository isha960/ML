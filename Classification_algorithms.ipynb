{
  "nbformat": 4,
  "nbformat_minor": 0,
  "metadata": {
    "colab": {
      "name": "Classification algorithms.ipynb",
      "provenance": [],
      "collapsed_sections": [],
      "include_colab_link": true
    },
    "kernelspec": {
      "name": "python3",
      "display_name": "Python 3"
    },
    "language_info": {
      "name": "python"
    }
  },
  "cells": [
    {
      "cell_type": "markdown",
      "metadata": {
        "id": "view-in-github",
        "colab_type": "text"
      },
      "source": [
        "<a href=\"https://colab.research.google.com/github/isha960/ML/blob/main/Classification_algorithms.ipynb\" target=\"_parent\"><img src=\"https://colab.research.google.com/assets/colab-badge.svg\" alt=\"Open In Colab\"/></a>"
      ]
    },
    {
      "cell_type": "code",
      "metadata": {
        "id": "pP9Hcx1EKAV8",
        "colab": {
          "base_uri": "https://localhost:8080/"
        },
        "outputId": "2907a5d8-e015-4f4e-8785-32038e592f6a"
      },
      "source": [
        "from sklearn import datasets, linear_model, metrics\n",
        "import csv \n",
        "import numpy as np \n",
        "import matplotlib.pyplot as plt \n",
        "import pandas as pd \n",
        "dataset = pd.read_csv('/content/weatherAUS.csv.zip')  \n",
        "dataset=np.array(dataset) \n",
        "dataset"
      ],
      "execution_count": null,
      "outputs": [
        {
          "output_type": "execute_result",
          "data": {
            "text/plain": [
              "array([['2008-12-01', 'Albury', 13.4, ..., 21.8, 'No', 'No'],\n",
              "       ['2008-12-02', 'Albury', 7.4, ..., 24.3, 'No', 'No'],\n",
              "       ['2008-12-03', 'Albury', 12.9, ..., 23.2, 'No', 'No'],\n",
              "       ...,\n",
              "       ['2017-06-23', 'Uluru', 5.4, ..., 26.1, 'No', 'No'],\n",
              "       ['2017-06-24', 'Uluru', 7.8, ..., 26.0, 'No', 'No'],\n",
              "       ['2017-06-25', 'Uluru', 14.9, ..., 20.9, 'No', nan]], dtype=object)"
            ]
          },
          "metadata": {
            "tags": []
          },
          "execution_count": 5
        }
      ]
    },
    {
      "cell_type": "code",
      "metadata": {
        "id": "lKbGfjp4LIDv",
        "colab": {
          "base_uri": "https://localhost:8080/"
        },
        "outputId": "7f62ab35-5af3-4f91-8c44-046f031eb69c"
      },
      "source": [
        "from google.colab import drive\n",
        "drive.mount('/content/drive')"
      ],
      "execution_count": null,
      "outputs": [
        {
          "output_type": "stream",
          "text": [
            "Mounted at /content/drive\n"
          ],
          "name": "stdout"
        }
      ]
    },
    {
      "cell_type": "code",
      "metadata": {
        "id": "p_aU1By_KHBs"
      },
      "source": [
        "from sklearn import datasets\n",
        "dataset = datasets.load_iris()\n",
        "features=dataset.data\n",
        "label=dataset.target"
      ],
      "execution_count": null,
      "outputs": []
    },
    {
      "cell_type": "code",
      "metadata": {
        "id": "BS1u6G6fnN8N"
      },
      "source": [
        "from sklearn.model_selection import train_test_split\n",
        "X_train,X_test,Y_train,Y_test=train_test_split(features,label,test_size=0.5)"
      ],
      "execution_count": null,
      "outputs": []
    },
    {
      "cell_type": "code",
      "metadata": {
        "id": "fsF-jtSaKdSj",
        "colab": {
          "base_uri": "https://localhost:8080/"
        },
        "outputId": "3fcbdc3d-1542-486d-dc1e-2a01e7903727"
      },
      "source": [
        "\n",
        "\n",
        "#LOGISTIC REGRESSION\n",
        "from sklearn.linear_model import LogisticRegression\n",
        "model=LogisticRegression()\n",
        "\n",
        "model.fit(X_train,Y_train)\n",
        "y_ans=model.predict(X_test)\n",
        "\n",
        "model.score(X_test,Y_test)"
      ],
      "execution_count": null,
      "outputs": [
        {
          "output_type": "stream",
          "text": [
            "/usr/local/lib/python3.7/dist-packages/sklearn/linear_model/_logistic.py:940: ConvergenceWarning: lbfgs failed to converge (status=1):\n",
            "STOP: TOTAL NO. of ITERATIONS REACHED LIMIT.\n",
            "\n",
            "Increase the number of iterations (max_iter) or scale the data as shown in:\n",
            "    https://scikit-learn.org/stable/modules/preprocessing.html\n",
            "Please also refer to the documentation for alternative solver options:\n",
            "    https://scikit-learn.org/stable/modules/linear_model.html#logistic-regression\n",
            "  extra_warning_msg=_LOGISTIC_SOLVER_CONVERGENCE_MSG)\n"
          ],
          "name": "stderr"
        },
        {
          "output_type": "execute_result",
          "data": {
            "text/plain": [
              "0.9866666666666667"
            ]
          },
          "metadata": {
            "tags": []
          },
          "execution_count": 8
        }
      ]
    },
    {
      "cell_type": "code",
      "metadata": {
        "colab": {
          "base_uri": "https://localhost:8080/"
        },
        "id": "IoGuSoX4LrkP",
        "outputId": "4e4e466b-ff7b-49c6-fca7-a3facc37bf3f"
      },
      "source": [
        "#K-NEAREST NEIGHBORS(KNN)\n",
        "from sklearn.neighbors import KNeighborsClassifier\n",
        "model=KNeighborsClassifier()\n",
        "\n",
        "model.fit(X_train,Y_train)\n",
        "y_ans=model.predict(X_test)\n",
        "\n",
        "model.score(X_test,Y_test)"
      ],
      "execution_count": null,
      "outputs": [
        {
          "output_type": "execute_result",
          "data": {
            "text/plain": [
              "0.9866666666666667"
            ]
          },
          "metadata": {
            "tags": []
          },
          "execution_count": 9
        }
      ]
    },
    {
      "cell_type": "code",
      "metadata": {
        "colab": {
          "base_uri": "https://localhost:8080/"
        },
        "id": "NKgzwCtBLzlX",
        "outputId": "57e5c02c-1beb-4e81-ce47-68165ee0031e"
      },
      "source": [
        "#NAIVE BAYES\n",
        "from sklearn.naive_bayes import GaussianNB\n",
        "model=GaussianNB()\n",
        "\n",
        "model.fit(X_train,Y_train)\n",
        "y_ans=model.predict(X_test)\n",
        "\n",
        "model.score(X_test,Y_test)"
      ],
      "execution_count": null,
      "outputs": [
        {
          "output_type": "execute_result",
          "data": {
            "text/plain": [
              "0.9733333333333334"
            ]
          },
          "metadata": {
            "tags": []
          },
          "execution_count": 10
        }
      ]
    },
    {
      "cell_type": "code",
      "metadata": {
        "colab": {
          "base_uri": "https://localhost:8080/"
        },
        "id": "Cs18P5AytPxm",
        "outputId": "ca01c24f-4c85-48f7-f9fd-0bf8e016fa81"
      },
      "source": [
        "#decision tree\n",
        "from sklearn.tree import DecisionTreeClassifier  \n",
        "dtree= DecisionTreeClassifier(class_weight=None, criterion='entropy', max_depth=None,\n",
        "max_features=None, max_leaf_nodes=None,\n",
        "min_impurity_decrease=0.0, min_impurity_split=None,\n",
        "min_samples_leaf=1, min_samples_split=2,\n",
        "min_weight_fraction_leaf=0.0, presort=False,\n",
        "                       random_state=0, splitter='best')\n",
        "model.fit(X_train, Y_train)  \n",
        "y_ans= model.predict(X_test)  \n",
        "model.score(X_test,Y_test)"
      ],
      "execution_count": null,
      "outputs": [
        {
          "output_type": "execute_result",
          "data": {
            "text/plain": [
              "0.9733333333333334"
            ]
          },
          "metadata": {
            "tags": []
          },
          "execution_count": 14
        }
      ]
    }
  ]
}