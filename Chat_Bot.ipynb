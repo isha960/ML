{
  "nbformat": 4,
  "nbformat_minor": 0,
  "metadata": {
    "colab": {
      "name": "Copy of Chat Bot.ipynb",
      "provenance": [],
      "collapsed_sections": [],
      "include_colab_link": true
    },
    "kernelspec": {
      "name": "python3",
      "display_name": "Python 3"
    }
  },
  "cells": [
    {
      "cell_type": "markdown",
      "metadata": {
        "id": "view-in-github",
        "colab_type": "text"
      },
      "source": [
        "<a href=\"https://colab.research.google.com/github/isha960/Machine-Learning/blob/main/Chat_Bot.ipynb\" target=\"_parent\"><img src=\"https://colab.research.google.com/assets/colab-badge.svg\" alt=\"Open In Colab\"/></a>"
      ]
    },
    {
      "cell_type": "code",
      "metadata": {
        "colab": {
          "base_uri": "https://localhost:8080/"
        },
        "id": "xnRPu6b5EPcK",
        "outputId": "f2ed45d7-aa62-4ad8-c54c-b182337bf0f5"
      },
      "source": [
        "3\n",
        "words = ['TEXT', 'EASTee', 'BESTe']\n",
        "words_ending_with_one_or_more_e = [w for w in words if re.search(\"e+$\", w)]\n",
        "words_ending_with_one_or_more_e"
      ],
      "execution_count": null,
      "outputs": [
        {
          "output_type": "execute_result",
          "data": {
            "text/plain": [
              "['EASTee', 'BESTe']"
            ]
          },
          "metadata": {
            "tags": []
          },
          "execution_count": 5
        }
      ]
    },
    {
      "cell_type": "code",
      "metadata": {
        "id": "FftDiQU4FRrb"
      },
      "source": [
        "#You can use it as well in list comprehensions to find words that end with “ed”, for example:"
      ],
      "execution_count": null,
      "outputs": []
    },
    {
      "cell_type": "code",
      "metadata": {
        "colab": {
          "base_uri": "https://localhost:8080/"
        },
        "id": "C2VYEeXKFTev",
        "outputId": "ae8ca156-b163-4c02-9128-542d53365df9"
      },
      "source": [
        "words = ['TEXT', 'EAST', 'BESTed']\n",
        "words_ending_with_ed = [w for w in words if re.search(\"ed$\", w)]\n",
        "words_ending_with_ed"
      ],
      "execution_count": null,
      "outputs": [
        {
          "output_type": "execute_result",
          "data": {
            "text/plain": [
              "['BESTed']"
            ]
          },
          "metadata": {
            "tags": []
          },
          "execution_count": 7
        }
      ]
    },
    {
      "cell_type": "code",
      "metadata": {
        "colab": {
          "base_uri": "https://localhost:8080/"
        },
        "id": "dO7FQFkjF4bE",
        "outputId": "38eb4a11-f62b-4551-cf2f-b8d88416431c"
      },
      "source": [
        "words = ['TEXT', 'EAST', '#BESTe']\n",
        "words_begin_with_hash = [w for w in words if re.search(\"^#\", w)]\n",
        "words_begin_with_hash"
      ],
      "execution_count": null,
      "outputs": [
        {
          "output_type": "execute_result",
          "data": {
            "text/plain": [
              "['#BESTe']"
            ]
          },
          "metadata": {
            "tags": []
          },
          "execution_count": 8
        }
      ]
    },
    {
      "cell_type": "code",
      "metadata": {
        "colab": {
          "base_uri": "https://localhost:8080/"
        },
        "id": "-riQntOwGeHm",
        "outputId": "dbf250a9-33d7-4228-ee6c-9560d0d74565"
      },
      "source": [
        "\n",
        "from nltk.stem import PorterStemmer\n",
        "e_words= [\"wait\", \"waiting\", \"waited\", \"waits\"]\n",
        "ps =PorterStemmer()\n",
        "for w in e_words:\n",
        "    rootWord=ps.stem(w)\n",
        "    print(rootWord)"
      ],
      "execution_count": null,
      "outputs": [
        {
          "output_type": "stream",
          "text": [
            "wait\n",
            "wait\n",
            "wait\n",
            "wait\n"
          ],
          "name": "stdout"
        }
      ]
    },
    {
      "cell_type": "code",
      "metadata": {
        "colab": {
          "base_uri": "https://localhost:8080/"
        },
        "id": "98qNHBw4eh50",
        "outputId": "8d0c6e66-3bc0-482b-ec15-855f900c0558"
      },
      "source": [
        "!pip install nltk\n",
        "!pip install punct"
      ],
      "execution_count": null,
      "outputs": [
        {
          "output_type": "stream",
          "text": [
            "Requirement already satisfied: nltk in /usr/local/lib/python3.7/dist-packages (3.2.5)\n",
            "Requirement already satisfied: six in /usr/local/lib/python3.7/dist-packages (from nltk) (1.15.0)\n",
            "Collecting punct\n",
            "  Downloading https://files.pythonhosted.org/packages/6a/cd/15969db72379cf6470a0f9630639c7441c2b302375fcbc28ce5c442fea36/punct-1.2.2.tar.gz\n",
            "Building wheels for collected packages: punct\n",
            "  Building wheel for punct (setup.py) ... \u001b[?25l\u001b[?25hdone\n",
            "  Created wheel for punct: filename=punct-1.2.2-cp37-none-any.whl size=5627 sha256=52be24caec73e047ca454c1c0da2d4f990dfab1fb35db7656645112ca6267094\n",
            "  Stored in directory: /root/.cache/pip/wheels/61/2f/3e/8abc5334209ca91ef3dfdd5dc98879ed29779b6c886abd3bc0\n",
            "Successfully built punct\n",
            "Installing collected packages: punct\n",
            "Successfully installed punct-1.2.2\n"
          ],
          "name": "stdout"
        }
      ]
    },
    {
      "cell_type": "code",
      "metadata": {
        "colab": {
          "base_uri": "https://localhost:8080/"
        },
        "id": "l7k85zS8Gs9H",
        "outputId": "3eec9e63-923f-49dd-a33c-5d9d1c9af017"
      },
      "source": [
        "import nltk\n",
        "nltk.download('punkt')\n",
        "from nltk.tokenize import sent_tokenize\n",
        "text=\" Hello Mr. Smith, how are you doing today? The weather is great, and city is awesome.The sky is pinkish-blue. You shouldn't eat cardboard\"\n",
        "tokenized_text=sent_tokenize(text)\n",
        "print(tokenized_text)"
      ],
      "execution_count": null,
      "outputs": [
        {
          "output_type": "stream",
          "text": [
            "[nltk_data] Downloading package punkt to /root/nltk_data...\n",
            "[nltk_data]   Unzipping tokenizers/punkt.zip.\n",
            "[' Hello Mr. Smith, how are you doing today?', 'The weather is great, and city is awesome.The sky is pinkish-blue.', \"You shouldn't eat cardboard\"]\n"
          ],
          "name": "stdout"
        }
      ]
    },
    {
      "cell_type": "code",
      "metadata": {
        "id": "8t-APuDIpowG",
        "colab": {
          "base_uri": "https://localhost:8080/"
        },
        "outputId": "97dd2b99-d774-4811-f9ce-969aa3fc0710"
      },
      "source": [
        "from nltk.chat.util import Chat, reflections\n",
        "pairs = [\n",
        "    [\n",
        "        r\"my name is (.*)\",\n",
        "        [\"Hello %1, How are you today ?\",]\n",
        "    ],\n",
        "     [\n",
        "        r\"what is your name ?\",\n",
        "        [\"My name is Chatty and I'm a chatbot ?\",]\n",
        "    ],\n",
        "    [\n",
        "        r\"how are you ?\",\n",
        "        [\"I'm doing good\\nHow about You ?\",]\n",
        "    ],\n",
        "    [\n",
        "        r\"sorry (.*)\",\n",
        "        [\"Its alright\",\"Its OK, never mind\",]\n",
        "    ],\n",
        "    [\n",
        "        r\"i'm (.*) doing good\",\n",
        "        [\"Nice to hear that\",\"Alright :)\",]\n",
        "    ],\n",
        "    [\n",
        "        r\"hi|hey|hello\",\n",
        "        [\"Hello\", \"Hey there\",]\n",
        "    ],\n",
        "    [\n",
        "        r\"(.*) age?\",\n",
        "        [\"I'm a computer program dude\\nSeriously you are asking me this?\",]\n",
        "        \n",
        "    ],\n",
        "    [\n",
        "        r\"what (.*) want ?\",\n",
        "        [\"Make me an offer I can't refuse\",]\n",
        "        \n",
        "    ],\n",
        "    [\n",
        "        r\"(.*) created ?\",\n",
        "        [\"Nagesh created me using Python's NLTK library \",\"top secret ;)\",]\n",
        "    ],\n",
        "    [\n",
        "        r\"(.*) (location|city) ?\",\n",
        "        ['Chennai, Tamil Nadu',]\n",
        "    ],\n",
        "    [\n",
        "        r\"how is weather in (.*)?\",\n",
        "        [\"Weather in %1 is awesome like always\",\"Too hot man here in %1\",\"Too cold man here in %1\",\"Never even heard about %1\"]\n",
        "    ],\n",
        "    [\n",
        "        r\"i work in (.*)?\",\n",
        "        [\"%1 is an Amazing company, I have heard about it. But they are in huge loss these days.\",]\n",
        "    ],\n",
        "    [\n",
        "        r\"(.*)raining in (.*)\",\n",
        "        [\"No rain since last week here in %2\",\"Damn its raining too much here in %2\"]\n",
        "    ],\n",
        "    [\n",
        "        r\"how (.*) health(.*)\",\n",
        "        [\"I'm a computer program, so I'm always healthy \",]\n",
        "    ],\n",
        "    [\n",
        "        r\"(.*) (sports|game) ?\",\n",
        "        [\"I'm a very big fan of Football\",]\n",
        "    ],\n",
        "    [\n",
        "        r\"who (.*) sportsperson ?\",\n",
        "        [\"Messy\",\"Ronaldo\",\"Roony\"]\n",
        "    ],\n",
        "    [\n",
        "        r\"who (.*) (moviestar|actor)?\",\n",
        "        [\"Brad Pitt\"]\n",
        "    ],\n",
        "    [\n",
        "        r\"quit\",\n",
        "        [\"BBye take care. See you soon :) \",\"It was nice talking to you. See you soon :)\"]\n",
        "    ],\n",
        "]\n",
        "def chatty():\n",
        "    print(\"Hi, I'm Chatty and I chat alot ;)\\nPlease type lowercase English language to start a conversation. Type quit to leave \") #default message at the start\n",
        "    chat = Chat(pairs, reflections)\n",
        "    chat.converse()\n",
        "if __name__ == \"__main__\":\n",
        "    chatty()"
      ],
      "execution_count": null,
      "outputs": [
        {
          "output_type": "stream",
          "text": [
            "Hi, I'm Chatty and I chat alot ;)\n",
            "Please type lowercase English language to start a conversation. Type quit to leave \n",
            ">hello\n",
            "Hello\n",
            ">quit\n",
            "BBye take care. See you soon :) \n"
          ],
          "name": "stdout"
        }
      ]
    },
    {
      "cell_type": "markdown",
      "metadata": {
        "id": "d-veYiaqAHwv"
      },
      "source": [
        "CHAT BOT IMPLEMENTATION USING CHATTERBOT"
      ]
    },
    {
      "cell_type": "code",
      "metadata": {
        "colab": {
          "base_uri": "https://localhost:8080/"
        },
        "id": "mPybzxdfob14",
        "outputId": "4c40d64b-782a-4ac1-a371-1d8dc2ef3f3a"
      },
      "source": [
        "!pip install chatterbot\n"
      ],
      "execution_count": null,
      "outputs": [
        {
          "output_type": "stream",
          "text": [
            "Collecting chatterbot\n",
            "\u001b[?25l  Downloading https://files.pythonhosted.org/packages/7c/21/85c2b114bd9dfabdd46ba58fc4519acdaed45d8c70898d40079e37a45e67/ChatterBot-1.0.8-py2.py3-none-any.whl (63kB)\n",
            "\r\u001b[K     |█████▏                          | 10kB 15.6MB/s eta 0:00:01\r\u001b[K     |██████████▎                     | 20kB 13.8MB/s eta 0:00:01\r\u001b[K     |███████████████▌                | 30kB 7.9MB/s eta 0:00:01\r\u001b[K     |████████████████████▋           | 40kB 7.9MB/s eta 0:00:01\r\u001b[K     |█████████████████████████▊      | 51kB 4.4MB/s eta 0:00:01\r\u001b[K     |███████████████████████████████ | 61kB 5.0MB/s eta 0:00:01\r\u001b[K     |████████████████████████████████| 71kB 3.2MB/s \n",
            "\u001b[?25hRequirement already satisfied: pytz in /usr/local/lib/python3.7/dist-packages (from chatterbot) (2018.9)\n",
            "Requirement already satisfied: sqlalchemy<1.4,>=1.3 in /usr/local/lib/python3.7/dist-packages (from chatterbot) (1.3.23)\n",
            "Collecting mathparse<0.2,>=0.1\n",
            "  Downloading https://files.pythonhosted.org/packages/c3/e5/4910fb85950cb960fcf3f5aabe1c8e55f5c9201788a1c1302b570a7e1f84/mathparse-0.1.2-py3-none-any.whl\n",
            "Requirement already satisfied: python-dateutil<2.9,>=2.8 in /usr/local/lib/python3.7/dist-packages (from chatterbot) (2.8.1)\n",
            "Requirement already satisfied: six>=1.5 in /usr/local/lib/python3.7/dist-packages (from python-dateutil<2.9,>=2.8->chatterbot) (1.15.0)\n",
            "Installing collected packages: mathparse, chatterbot\n",
            "Successfully installed chatterbot-1.0.8 mathparse-0.1.2\n"
          ],
          "name": "stdout"
        }
      ]
    },
    {
      "cell_type": "code",
      "metadata": {
        "colab": {
          "base_uri": "https://localhost:8080/"
        },
        "id": "zQ7tDl_BoKq1",
        "outputId": "b9fd84f4-5361-4e1f-8a3c-817d10ef7546"
      },
      "source": [
        "#Importing basic libraries required\n",
        "from chatterbot import ChatBot\n",
        "from chatterbot.trainers import ListTrainer\n",
        "\n",
        "#Creating an instance of ChatBot\n",
        "chatbot = ChatBot(\"Vandana\")\n",
        "\n",
        "#Converstion for ChatBot\n",
        "conversation = [\n",
        "    \"Good morning\",\n",
        "    \"Hi there!\",\n",
        "    \"How are you doing?\",\n",
        "    \"I'm doing great.\",\n",
        "    \"That is good to hear\",\n",
        "    \"Thank you.\",\n",
        "    \"You're welcome.\"\n",
        "    \"What is your name\"\n",
        "    \"My name is FRIDAY\"\n",
        "    \"gduqgduqgdug\"\n",
        "]\n",
        "\n",
        "#Training ChatBot\n",
        "trainer = ListTrainer(chatbot)\n",
        "trainer.train(conversation)\n",
        "\n",
        "while True:\n",
        "    try:\n",
        "        bot_input = chatbot.get_response(input())\n",
        "        print(bot_input)\n",
        "\n",
        "    except(KeyboardInterrupt, EOFError, SystemExit):\n",
        "        break"
      ],
      "execution_count": null,
      "outputs": [
        {
          "output_type": "stream",
          "text": [
            "List Trainer: [####################] 100%\n",
            "123\n",
            "How are you doing?\n",
            "good\n",
            "Good morning\n",
            "quit\n",
            "Thank you.\n",
            "hmm\n",
            "That is good to hear\n"
          ],
          "name": "stdout"
        }
      ]
    }
  ]
}